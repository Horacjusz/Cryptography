{
 "cells": [
  {
   "cell_type": "markdown",
   "id": "552b0fe2",
   "metadata": {},
   "source": [
    "# Problem logarytmu dyskretnego\n",
    "\n",
    "Niech $(G,\\circ)$ będzie grupą z działaniem $\\circ$ i elementem neutralnym $1_G$. Wtedy dla dowolnego elementu $a\\in G$ i $k\\in\\mathbb{Z}$ definiujemy *potęgę* $$a^k =\\left\\{\\begin{array}{cc}\n",
    "\\underbrace{a\\circ a\\circ \\ldots \\circ a}_{k}&\\text{ dla }k>0\\\\\n",
    "1_G&\\text{ dla }k=0\\\\\n",
    "\\underbrace{a^{-1}\\circ a^{-1}\\circ \\ldots \\circ a^{-1}}_{k}&\\text{ dla }k<0\n",
    "\\end{array}\\right.$$\n",
    "gdzie $a^{-1}$ jest elementem odwrotnym do $a$.\n",
    "\n",
    "Dla $a,b\\in G$, $b\\neq 1_G$, *logarytmem dyskretnym* $\\log_b a$ jest każda liczba $k\\in\\mathbb{Z}$ taka, że $b^k=a$.\n",
    "\n",
    "## Logarytm dyskretny w $\\mathbb{Z}_n$\n",
    "\n",
    "W przypadku pierścienia $\\mathbb{Z}_n$ logarytmem dyskretnym $\\log_b a$ jest każda liczba $k\\in\\mathbb{Z}$ taka, że $b^k=a\\mod n$, o ile w ogóle istnieje.\n",
    "\n",
    "Specyficzną sytuacją w teorii liczb jest gdy $n=p$ jest liczbą pierwszą a $q$ jest pierwiastkiem pierwotnym $\\mod p$. Wtedy:\n",
    "- potęgi $q^k\\mod p$ generują cały zbiór $[1,p-1]$, tzn. $q$ jest generatorem grupy multiplikatywneh rzędu $p-1$\n",
    "- logarytm dyskretny $\\log_q a$ istnieje dla każdego niezerowego elementu $a\\in \\mathbb{Z}_p$\n",
    "\n",
    "## Algorytm baby-step giant-step\n",
    "\n",
    "Jeden z najprostszych (poza metodą naiwną) algorytmów poszukiwania logarytmu dyskretnego w grupach cyklicznych.\n",
    "\n",
    "Niech $p$ będzie liczbą pierwszą oraz niech $q$ będzie pierwiastkiem pierwotnym modulo $p$. Dla niezerowego $a\\in\\mathbb{Z}_p$ szukamy liczby $k\\in\\mathbb{Z}$ takiej, że $q^k=a\\mod p$\n",
    "\n",
    "### Krok 1.\n",
    "- $m=\\lceil\\sqrt{p-1}\\rceil$\n",
    "- tworzymy pomocniczą tablicę potęg: dla wszystkich $i\\in [0,m)$ obliczamy parę $(i,q^i)$\n",
    "- obliczamy $r=(q^{-1})^m$\n",
    "### Krok 2.\n",
    "- $b=a$\n",
    "- dla wszystkich $j\\in [0,m)$:\n",
    "    - sprawdzamy, czy para $(i,b)$ jest elementem tablicy potęg dla pewnego $i$\n",
    "    - jeżeli tak, to $k=jm+i$ i kończymy algorytm\n",
    "    - jeżeli nie, to $b=br$ i kontynuujemy pętlę\n"
   ]
  },
  {
   "cell_type": "markdown",
   "id": "0a168713",
   "metadata": {},
   "source": [
    "## Zadanie 1.\n",
    "\n",
    "Zaimplementować algorytm baby-step giant-step. Przetestować dla podanych danych testujących.\n",
    "\n",
    "```Dane testujące:\n",
    "p = 7\n",
    "q = 3\n",
    "a = 4\n",
    "\n",
    "m = 3\n",
    "tablica_testowa = [1,3,2]\n",
    "r = 6\n",
    "k = 4 (j = 1, i = 1)\n",
    "```\n",
    "\n",
    "```\n",
    "p = 29\n",
    "q = 8\n",
    "a = 10\n",
    "\n",
    "m = 6\n",
    "tablica_testowa = [1,8,6,19,7,27]\n",
    "r = 9\n",
    "k = 17 (j = 2, i = 5)\n",
    "```\n",
    "\n",
    "```\n",
    "p = 113\n",
    "q = 76\n",
    "a = 84\n",
    "\n",
    "m = 11\n",
    "tablica_testowa = [1,76,13,84,56,75,50,71,85,19,88]\n",
    "r = 70\n",
    "k = 3 (j = 0, i = 3)\n",
    "```"
   ]
  },
  {
   "cell_type": "code",
   "execution_count": 46,
   "id": "06b610d8",
   "metadata": {},
   "outputs": [],
   "source": [
    "import numpy as np"
   ]
  },
  {
   "cell_type": "code",
   "execution_count": 47,
   "id": "9c934933",
   "metadata": {},
   "outputs": [],
   "source": [
    "def baby_step_giant_step(p, q, a, printing = True) :\n",
    "    m = int(np.ceil(np.sqrt(p - 1)))\n",
    "    powers = []\n",
    "    for i in range(m) :\n",
    "        powers.append(pow(q, i, p))\n",
    "    r = pow(q, -m, p)\n",
    "    b = a % p\n",
    "    for j in range(m) :\n",
    "        for i in range(m) :\n",
    "            if b == powers[i] :\n",
    "                k = (j*m + i)%p\n",
    "                if printing : \n",
    "                    print(f\"m = {m}\")\n",
    "                    print(f\"powers = {powers}\")\n",
    "                    print(f\"r = {r}\")\n",
    "                    print(f\"k = {k} (j = {j}, i = {i})\\n\")\n",
    "                return k\n",
    "        b = (b*r) % p"
   ]
  },
  {
   "cell_type": "code",
   "execution_count": 48,
   "id": "dc63341c",
   "metadata": {},
   "outputs": [
    {
     "name": "stdout",
     "output_type": "stream",
     "text": [
      "m = 3\n",
      "powers = [1, 3, 2]\n",
      "r = 6\n",
      "k = 4 (j = 1, i = 1)\n",
      "\n",
      "m = 6\n",
      "powers = [1, 8, 6, 19, 7, 27]\n",
      "r = 9\n",
      "k = 17 (j = 2, i = 5)\n",
      "\n",
      "m = 11\n",
      "powers = [1, 76, 13, 84, 56, 75, 50, 71, 85, 19, 88]\n",
      "r = 70\n",
      "k = 3 (j = 0, i = 3)\n",
      "\n"
     ]
    },
    {
     "data": {
      "text/plain": [
       "3"
      ]
     },
     "execution_count": 48,
     "metadata": {},
     "output_type": "execute_result"
    }
   ],
   "source": [
    "baby_step_giant_step(7, 3, 4)\n",
    "baby_step_giant_step(29, 8, 10)\n",
    "baby_step_giant_step(113, 76, 84)"
   ]
  },
  {
   "cell_type": "markdown",
   "id": "812b4993",
   "metadata": {},
   "source": [
    "# Wymiana klucza typu Diffie-Hellman\n",
    "\n",
    "Alice i Bob uzgadniają klucz publiczny będący liczbą pierwszą $p$ oraz $q$ - pierwiastkiem pierwotnym mod $p$.\n",
    "- sekret Alice: liczba całkowita $n\\in \\mathbb{Z}_p\\setminus\\{0\\}$\n",
    "- sekret Boba: liczba całkowita $m\\in \\mathbb{Z}_p\\setminus\\{0\\}$\n",
    "- Alice generuje $x=q^n\\mod p$ i wysyła do Boba\n",
    "- Bob generuje $y=q^m\\mod p$ i wysyła Alice\n",
    "- Alice oblicza klucz $k=y^n\\mod p$\n",
    "- Bob oblicza klucz $k=x^m\\mod p$\n"
   ]
  },
  {
   "cell_type": "markdown",
   "id": "076f56f9",
   "metadata": {},
   "source": [
    "## Zadanie 2.\n",
    "\n",
    "Zaimplementuj powyższy algorytm wymiany klucza. Dobierz parametry $p$ i $q$ tak, żeby znając $x$, $y$, $p$ i $q$ nie dało się odtworzyć sekretów algorytmem z zadania 1."
   ]
  },
  {
   "cell_type": "code",
   "execution_count": 49,
   "id": "4a7de99a",
   "metadata": {},
   "outputs": [],
   "source": [
    "def primitive_root(p) :\n",
    "    for i in range(1, p) :\n",
    "        possible = True\n",
    "        for j in range(1, p - 1) :\n",
    "            if (i**j)%p == 1 : \n",
    "                possible = False\n",
    "                continue\n",
    "        if possible :\n",
    "            return i\n",
    "    \n",
    "    return None"
   ]
  },
  {
   "cell_type": "code",
   "execution_count": 50,
   "id": "0310077f",
   "metadata": {},
   "outputs": [],
   "source": [
    "from random import randint\n",
    "\n",
    "def diffie_hellman(p, q, printing = True) :\n",
    "    n = randint(1, p-2)\n",
    "    if printing : print(\"A ->\", n)\n",
    "    m = randint(1, p-2)\n",
    "    if printing : print(\"B ->\", m)\n",
    "    x = pow(q, n, p)\n",
    "    if printing : print(\"a sent ->\", x)\n",
    "    y = pow(q, m, p)\n",
    "    if printing : print(\"b sent ->\", y)\n",
    "\n",
    "    k = pow(y, n, p)\n",
    "    if printing : print(\"a k ->\", k)\n",
    "    k = pow(x, m, p)\n",
    "    if printing : print(\"b k ->\", k)\n",
    "    \n",
    "    return x, y, n, m"
   ]
  },
  {
   "cell_type": "code",
   "execution_count": 51,
   "id": "81ea15b9",
   "metadata": {},
   "outputs": [
    {
     "name": "stdout",
     "output_type": "stream",
     "text": [
      "A -> 3\n",
      "B -> 3\n",
      "a sent -> 6\n",
      "b sent -> 6\n",
      "a k -> 6\n",
      "b k -> 6\n",
      "m = 3\n",
      "powers = [1, 3, 2]\n",
      "r = 6\n",
      "k = 3 (j = 1, i = 0)\n",
      "\n",
      "n broken 3\n",
      "m = 3\n",
      "powers = [1, 3, 2]\n",
      "r = 6\n",
      "k = 3 (j = 1, i = 0)\n",
      "\n",
      "m broken 3\n",
      "broken for 7\n",
      "True\n"
     ]
    }
   ],
   "source": [
    "def try_break(p, printing = True) :\n",
    "    if p < 3 : return False\n",
    "    q = primitive_root(p)\n",
    "    if q is None : return False\n",
    "    x, y, n, m = diffie_hellman(p, q, printing)\n",
    "    \n",
    "    if n == baby_step_giant_step(p, q, x, printing) : \n",
    "        if printing :\n",
    "            print(\"n broken\", n)\n",
    "        if m == baby_step_giant_step(p, q, y, printing) : \n",
    "            if printing :\n",
    "                print(\"m broken\", m)\n",
    "                print(\"broken for\", p)\n",
    "            return True\n",
    "    return False  \n",
    "\n",
    "print(try_break(7))"
   ]
  },
  {
   "cell_type": "code",
   "execution_count": 52,
   "id": "14a18ac8",
   "metadata": {},
   "outputs": [
    {
     "name": "stdout",
     "output_type": "stream",
     "text": [
      "1\n",
      "10\n",
      "100\n",
      "1000\n"
     ]
    },
    {
     "ename": "KeyboardInterrupt",
     "evalue": "",
     "output_type": "error",
     "traceback": [
      "\u001b[0;31m---------------------------------------------------------------------------\u001b[0m",
      "\u001b[0;31mKeyboardInterrupt\u001b[0m                         Traceback (most recent call last)",
      "Cell \u001b[0;32mIn[52], line 21\u001b[0m\n\u001b[1;32m     17\u001b[0m             \u001b[38;5;28mprint\u001b[39m(\u001b[38;5;124m\"\u001b[39m\u001b[38;5;124mUnbroken for\u001b[39m\u001b[38;5;124m\"\u001b[39m, p)\n\u001b[1;32m     18\u001b[0m             \u001b[38;5;28;01mreturn\u001b[39;00m p\n\u001b[0;32m---> 21\u001b[0m \u001b[43mfind_unbreakable\u001b[49m\u001b[43m(\u001b[49m\u001b[43m)\u001b[49m\n",
      "Cell \u001b[0;32mIn[52], line 15\u001b[0m, in \u001b[0;36mfind_unbreakable\u001b[0;34m(printing)\u001b[0m\n\u001b[1;32m     12\u001b[0m \u001b[38;5;28;01mif\u001b[39;00m printing :\n\u001b[1;32m     13\u001b[0m     \u001b[38;5;28mprint\u001b[39m(\u001b[38;5;124m\"\u001b[39m\u001b[38;5;124m===\u001b[39m\u001b[38;5;124m\"\u001b[39m, p, \u001b[38;5;124m\"\u001b[39m\u001b[38;5;124m===\u001b[39m\u001b[38;5;124m\"\u001b[39m)\n\u001b[0;32m---> 15\u001b[0m check \u001b[38;5;241m=\u001b[39m \u001b[43mtry_break\u001b[49m\u001b[43m(\u001b[49m\u001b[43mp\u001b[49m\u001b[43m,\u001b[49m\u001b[43m \u001b[49m\u001b[43mprinting\u001b[49m\u001b[43m)\u001b[49m\n\u001b[1;32m     16\u001b[0m \u001b[38;5;28;01mif\u001b[39;00m \u001b[38;5;129;01mnot\u001b[39;00m check :\n\u001b[1;32m     17\u001b[0m     \u001b[38;5;28mprint\u001b[39m(\u001b[38;5;124m\"\u001b[39m\u001b[38;5;124mUnbroken for\u001b[39m\u001b[38;5;124m\"\u001b[39m, p)\n",
      "Cell \u001b[0;32mIn[51], line 3\u001b[0m, in \u001b[0;36mtry_break\u001b[0;34m(p, printing)\u001b[0m\n\u001b[1;32m      1\u001b[0m \u001b[38;5;28;01mdef\u001b[39;00m \u001b[38;5;21mtry_break\u001b[39m(p, printing \u001b[38;5;241m=\u001b[39m \u001b[38;5;28;01mTrue\u001b[39;00m) :\n\u001b[1;32m      2\u001b[0m     \u001b[38;5;28;01mif\u001b[39;00m p \u001b[38;5;241m<\u001b[39m \u001b[38;5;241m3\u001b[39m : \u001b[38;5;28;01mreturn\u001b[39;00m \u001b[38;5;28;01mFalse\u001b[39;00m\n\u001b[0;32m----> 3\u001b[0m     q \u001b[38;5;241m=\u001b[39m \u001b[43mprimitive_root\u001b[49m\u001b[43m(\u001b[49m\u001b[43mp\u001b[49m\u001b[43m)\u001b[49m\n\u001b[1;32m      4\u001b[0m     \u001b[38;5;28;01mif\u001b[39;00m q \u001b[38;5;129;01mis\u001b[39;00m \u001b[38;5;28;01mNone\u001b[39;00m : \u001b[38;5;28;01mreturn\u001b[39;00m \u001b[38;5;28;01mFalse\u001b[39;00m\n\u001b[1;32m      5\u001b[0m     x, y, n, m \u001b[38;5;241m=\u001b[39m diffie_hellman(p, q, printing)\n",
      "Cell \u001b[0;32mIn[49], line 5\u001b[0m, in \u001b[0;36mprimitive_root\u001b[0;34m(p)\u001b[0m\n\u001b[1;32m      3\u001b[0m possible \u001b[38;5;241m=\u001b[39m \u001b[38;5;28;01mTrue\u001b[39;00m\n\u001b[1;32m      4\u001b[0m \u001b[38;5;28;01mfor\u001b[39;00m j \u001b[38;5;129;01min\u001b[39;00m \u001b[38;5;28mrange\u001b[39m(\u001b[38;5;241m1\u001b[39m, p \u001b[38;5;241m-\u001b[39m \u001b[38;5;241m1\u001b[39m) :\n\u001b[0;32m----> 5\u001b[0m     \u001b[38;5;28;01mif\u001b[39;00m (\u001b[43mi\u001b[49m\u001b[38;5;241;43m*\u001b[39;49m\u001b[38;5;241;43m*\u001b[39;49m\u001b[43mj\u001b[49m)\u001b[38;5;241m%\u001b[39mp \u001b[38;5;241m==\u001b[39m \u001b[38;5;241m1\u001b[39m : \n\u001b[1;32m      6\u001b[0m         possible \u001b[38;5;241m=\u001b[39m \u001b[38;5;28;01mFalse\u001b[39;00m\n\u001b[1;32m      7\u001b[0m         \u001b[38;5;28;01mcontinue\u001b[39;00m\n",
      "\u001b[0;31mKeyboardInterrupt\u001b[0m: "
     ]
    }
   ],
   "source": [
    "from sympy import nextprime\n",
    "\n",
    "def find_unbreakable(printing = False) :\n",
    "    \n",
    "    p = 2\n",
    "    ten = 1\n",
    "    while True :\n",
    "        p = nextprime(p)\n",
    "        if p >= ten:\n",
    "            print(ten)\n",
    "            ten *= 10\n",
    "        if printing :\n",
    "            print(\"===\", p, \"===\")\n",
    "        \n",
    "        check = try_break(p, printing)\n",
    "        if not check :\n",
    "            print(\"Unbroken for\", p)\n",
    "            return p\n",
    "    \n",
    "    \n",
    "find_unbreakable()"
   ]
  },
  {
   "cell_type": "markdown",
   "id": "e5b33d34",
   "metadata": {},
   "source": [
    "Z obserwacji wynika, że dla wszystkich małych liczb pierwszych można złamać klucz Diffie-Hellmana"
   ]
  }
 ],
 "metadata": {
  "kernelspec": {
   "display_name": "Python 3",
   "language": "python",
   "name": "python3"
  },
  "language_info": {
   "codemirror_mode": {
    "name": "ipython",
    "version": 3
   },
   "file_extension": ".py",
   "mimetype": "text/x-python",
   "name": "python",
   "nbconvert_exporter": "python",
   "pygments_lexer": "ipython3",
   "version": "3.10.12"
  }
 },
 "nbformat": 4,
 "nbformat_minor": 5
}
